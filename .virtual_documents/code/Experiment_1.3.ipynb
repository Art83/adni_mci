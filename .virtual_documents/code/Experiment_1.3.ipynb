import pandas as pd
import numpy as np
from sklearn.model_selection import train_test_split
from sklearn import metrics
from imblearn.over_sampling import SMOTE
import optuna
from optuna.samplers import TPESampler
from sklearn.preprocessing import StandardScaler
from sklearn.model_selection import StratifiedKFold
from sklearn.metrics import classification_report, accuracy_score, confusion_matrix, multilabel_confusion_matrix, roc_curve, auc, precision_score,recall_score,make_scorer,roc_auc_score
import matplotlib.pyplot as plt
import shap
from sklearn.preprocessing import PolynomialFeatures
from catboost import CatBoostClassifier
import funcs
from scipy.stats import f_oneway, kruskal, pointbiserialr


data = pd.read_csv("../objects/df_imputed_not_complete_874.csv", index_col=0)
data.head()


mci = pd.read_csv("../objects/MCI.csv", index_col=0)


mci1 = mci[mci['cluster'] == 'MCI3']['RID'].to_list()


data = data[~data['RID'].isin(mci1)]


data['DIAGNOSIS'].value_counts()


outcome = data['DIAGNOSIS']
data.drop(['RID', 'DIAGNOSIS'], axis = 1, inplace=True)


outcome_mapping = {"Control": 0,
                  "MCI": 1,
                  "AZ": 2}
outcome = outcome.map(outcome_mapping)


X, X_test, y, y_test = train_test_split(data, outcome, test_size=0.2, random_state=43)


smote_over = SMOTE(random_state=44)
X, y = smote_over.fit_resample(X, y)


best_params_filter_based = {'iterations': 1800, 'learning_rate': 0.20649746303659136, 'l2_leaf_reg': 4.37841702433753, 'bagging_temperature': 1.6766419657563723, 'random_strength': 1.9555985333019168, 'depth': 7, 'min_data_in_leaf': 91, 'colsample_bylevel': 0.9759404466998405}


feat = ["PTEDUCAT", "PTMARRY", "VSPULSE", "NXGAIT", "LIMMTOTAL", "LDELTOTAL", "MHPSYCH", "GDBORED", "GDDROP", "GDMEMORY", "GDHOPE", "GDBETTER", "HMT15", "HMT16", "HMT8", "apoe"]


final_model = CatBoostClassifier(**best_params_filter_based, loss_function="MultiClass", verbose=False)


X_corr = X[feat]
X_test_corr = X_test[feat]


final_model.fit(X_corr, y)


predictions = final_model.predict(X_test_corr)
predictions_proba = final_model.predict_proba(X_test_corr)


funcs.metrics_merged(y_test, predictions, predictions_proba)
