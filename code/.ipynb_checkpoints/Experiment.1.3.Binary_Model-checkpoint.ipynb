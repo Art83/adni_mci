{
 "cells": [
  {
   "cell_type": "code",
   "execution_count": 132,
   "id": "0884967f-f94a-4167-919d-b32e92d03886",
   "metadata": {},
   "outputs": [],
   "source": [
    "import pandas as pd\n",
    "import numpy as np\n",
    "import matplotlib.pyplot as plt\n",
    "from sklearn.model_selection import train_test_split\n",
    "from imblearn.over_sampling import SMOTE\n",
    "from catboost import CatBoostClassifier\n",
    "import funcs\n",
    "from sklearn.metrics import roc_curve, auc, confusion_matrix"
   ]
  },
  {
   "cell_type": "code",
   "execution_count": 97,
   "id": "57308c53-2d5c-45fc-b718-828dd5a5ae29",
   "metadata": {},
   "outputs": [
    {
     "data": {
      "text/html": [
       "<div>\n",
       "<style scoped>\n",
       "    .dataframe tbody tr th:only-of-type {\n",
       "        vertical-align: middle;\n",
       "    }\n",
       "\n",
       "    .dataframe tbody tr th {\n",
       "        vertical-align: top;\n",
       "    }\n",
       "\n",
       "    .dataframe thead th {\n",
       "        text-align: right;\n",
       "    }\n",
       "</style>\n",
       "<table border=\"1\" class=\"dataframe\">\n",
       "  <thead>\n",
       "    <tr style=\"text-align: right;\">\n",
       "      <th></th>\n",
       "      <th>RID</th>\n",
       "      <th>PTHAND</th>\n",
       "      <th>PTMARRY</th>\n",
       "      <th>PTEDUCAT</th>\n",
       "      <th>PTNOTRT</th>\n",
       "      <th>PTHOME</th>\n",
       "      <th>PTPLANG</th>\n",
       "      <th>PTETHCAT</th>\n",
       "      <th>PTRACCAT</th>\n",
       "      <th>age</th>\n",
       "      <th>...</th>\n",
       "      <th>RCT29</th>\n",
       "      <th>RCT3</th>\n",
       "      <th>RCT392</th>\n",
       "      <th>RCT4</th>\n",
       "      <th>RCT5</th>\n",
       "      <th>RCT6</th>\n",
       "      <th>RCT8</th>\n",
       "      <th>RCT9</th>\n",
       "      <th>apoe</th>\n",
       "      <th>DIAGNOSIS</th>\n",
       "    </tr>\n",
       "  </thead>\n",
       "  <tbody>\n",
       "    <tr>\n",
       "      <th>1</th>\n",
       "      <td>2</td>\n",
       "      <td>2</td>\n",
       "      <td>1</td>\n",
       "      <td>16</td>\n",
       "      <td>1</td>\n",
       "      <td>1</td>\n",
       "      <td>1</td>\n",
       "      <td>2</td>\n",
       "      <td>5</td>\n",
       "      <td>74.333333</td>\n",
       "      <td>...</td>\n",
       "      <td>0.2</td>\n",
       "      <td>19</td>\n",
       "      <td>1.1</td>\n",
       "      <td>21</td>\n",
       "      <td>19</td>\n",
       "      <td>15</td>\n",
       "      <td>5.6</td>\n",
       "      <td>3.0</td>\n",
       "      <td>2</td>\n",
       "      <td>Control</td>\n",
       "    </tr>\n",
       "    <tr>\n",
       "      <th>2</th>\n",
       "      <td>3</td>\n",
       "      <td>1</td>\n",
       "      <td>1</td>\n",
       "      <td>18</td>\n",
       "      <td>1</td>\n",
       "      <td>3</td>\n",
       "      <td>1</td>\n",
       "      <td>2</td>\n",
       "      <td>5</td>\n",
       "      <td>81.250000</td>\n",
       "      <td>...</td>\n",
       "      <td>0.1</td>\n",
       "      <td>21</td>\n",
       "      <td>1.3</td>\n",
       "      <td>16</td>\n",
       "      <td>19</td>\n",
       "      <td>19</td>\n",
       "      <td>6.9</td>\n",
       "      <td>3.5</td>\n",
       "      <td>3</td>\n",
       "      <td>AZ</td>\n",
       "    </tr>\n",
       "    <tr>\n",
       "      <th>3</th>\n",
       "      <td>4</td>\n",
       "      <td>1</td>\n",
       "      <td>1</td>\n",
       "      <td>10</td>\n",
       "      <td>0</td>\n",
       "      <td>1</td>\n",
       "      <td>2</td>\n",
       "      <td>1</td>\n",
       "      <td>5</td>\n",
       "      <td>67.583333</td>\n",
       "      <td>...</td>\n",
       "      <td>0.1</td>\n",
       "      <td>16</td>\n",
       "      <td>1.2</td>\n",
       "      <td>23</td>\n",
       "      <td>18</td>\n",
       "      <td>25</td>\n",
       "      <td>6.0</td>\n",
       "      <td>2.9</td>\n",
       "      <td>2</td>\n",
       "      <td>MCI</td>\n",
       "    </tr>\n",
       "    <tr>\n",
       "      <th>4</th>\n",
       "      <td>5</td>\n",
       "      <td>1</td>\n",
       "      <td>1</td>\n",
       "      <td>16</td>\n",
       "      <td>1</td>\n",
       "      <td>1</td>\n",
       "      <td>1</td>\n",
       "      <td>2</td>\n",
       "      <td>5</td>\n",
       "      <td>73.666667</td>\n",
       "      <td>...</td>\n",
       "      <td>0.2</td>\n",
       "      <td>16</td>\n",
       "      <td>1.0</td>\n",
       "      <td>17</td>\n",
       "      <td>24</td>\n",
       "      <td>14</td>\n",
       "      <td>5.7</td>\n",
       "      <td>3.2</td>\n",
       "      <td>2</td>\n",
       "      <td>Control</td>\n",
       "    </tr>\n",
       "    <tr>\n",
       "      <th>5</th>\n",
       "      <td>6</td>\n",
       "      <td>1</td>\n",
       "      <td>1</td>\n",
       "      <td>13</td>\n",
       "      <td>1</td>\n",
       "      <td>1</td>\n",
       "      <td>1</td>\n",
       "      <td>2</td>\n",
       "      <td>5</td>\n",
       "      <td>80.416667</td>\n",
       "      <td>...</td>\n",
       "      <td>0.2</td>\n",
       "      <td>19</td>\n",
       "      <td>1.1</td>\n",
       "      <td>16</td>\n",
       "      <td>19</td>\n",
       "      <td>23</td>\n",
       "      <td>5.3</td>\n",
       "      <td>4.5</td>\n",
       "      <td>2</td>\n",
       "      <td>MCI</td>\n",
       "    </tr>\n",
       "  </tbody>\n",
       "</table>\n",
       "<p>5 rows × 118 columns</p>\n",
       "</div>"
      ],
      "text/plain": [
       "   RID  PTHAND  PTMARRY  PTEDUCAT  PTNOTRT  PTHOME  PTPLANG  PTETHCAT  \\\n",
       "1    2       2        1        16        1       1        1         2   \n",
       "2    3       1        1        18        1       3        1         2   \n",
       "3    4       1        1        10        0       1        2         1   \n",
       "4    5       1        1        16        1       1        1         2   \n",
       "5    6       1        1        13        1       1        1         2   \n",
       "\n",
       "   PTRACCAT        age  ...  RCT29  RCT3  RCT392  RCT4  RCT5  RCT6  RCT8  \\\n",
       "1         5  74.333333  ...    0.2    19     1.1    21    19    15   5.6   \n",
       "2         5  81.250000  ...    0.1    21     1.3    16    19    19   6.9   \n",
       "3         5  67.583333  ...    0.1    16     1.2    23    18    25   6.0   \n",
       "4         5  73.666667  ...    0.2    16     1.0    17    24    14   5.7   \n",
       "5         5  80.416667  ...    0.2    19     1.1    16    19    23   5.3   \n",
       "\n",
       "   RCT9  apoe  DIAGNOSIS  \n",
       "1   3.0     2    Control  \n",
       "2   3.5     3         AZ  \n",
       "3   2.9     2        MCI  \n",
       "4   3.2     2    Control  \n",
       "5   4.5     2        MCI  \n",
       "\n",
       "[5 rows x 118 columns]"
      ]
     },
     "execution_count": 97,
     "metadata": {},
     "output_type": "execute_result"
    }
   ],
   "source": [
    "data = pd.read_csv(\"../objects/df_imputed_not_complete_874.csv\", index_col=0)\n",
    "data.head()"
   ]
  },
  {
   "cell_type": "code",
   "execution_count": 99,
   "id": "713291cd-083f-4b3d-965d-3ae2aecabcf0",
   "metadata": {},
   "outputs": [],
   "source": [
    "data = data[data['DIAGNOSIS'] != \"MCI\"]"
   ]
  },
  {
   "cell_type": "code",
   "execution_count": 101,
   "id": "aeb89b49-fec4-4711-9343-162409644be1",
   "metadata": {},
   "outputs": [],
   "source": [
    "outcome = data['DIAGNOSIS']\n",
    "data.drop(['RID', 'DIAGNOSIS'], axis = 1, inplace=True)"
   ]
  },
  {
   "cell_type": "code",
   "execution_count": 103,
   "id": "4768b897-032a-4862-ad3d-dadde06bbd32",
   "metadata": {},
   "outputs": [],
   "source": [
    "outcome_mapping = {\"Control\": 0,\n",
    "                  \"AZ\": 1}\n",
    "outcome = outcome.map(outcome_mapping)"
   ]
  },
  {
   "cell_type": "code",
   "execution_count": 105,
   "id": "3c897671-29d1-46b2-8fd5-e43b18c93fb2",
   "metadata": {},
   "outputs": [],
   "source": [
    "X, X_test, y, y_test = train_test_split(data, outcome, test_size=0.2, random_state=43)"
   ]
  },
  {
   "cell_type": "code",
   "execution_count": 107,
   "id": "0c31f515-682d-4b48-8ea6-681f672f4995",
   "metadata": {},
   "outputs": [],
   "source": [
    "feat = [\"weight\", \"height\", \"PTMARRY\", \"PTEDUCAT\", \"BMI\", \"VSPULSE\", \"NXVISUAL\", \"NXGAIT\", \"LIMMTOTAL\", \"LDELTOTAL\", \"MHPSYCH\", \"GDDROP\", \"GDBORED\", \"GDMEMORY\", \"GDHOPE\", \"GDBETTER\", \"GDTOTAL\", \"HMT15\", \"HMT16\",\"HMT7\",\"HMT8\", \"HMT100\",\"RCT392\", \"apoe\"]"
   ]
  },
  {
   "cell_type": "code",
   "execution_count": 109,
   "id": "ee260f32-3f6c-4da8-9135-86013c31bac4",
   "metadata": {},
   "outputs": [],
   "source": [
    "smote_over = SMOTE(random_state=44)\n",
    "X, y = smote_over.fit_resample(X, y)"
   ]
  },
  {
   "cell_type": "code",
   "execution_count": 111,
   "id": "dd9862a4-5790-4063-b2b5-3e75863c408d",
   "metadata": {},
   "outputs": [],
   "source": [
    "X = X[feat]\n",
    "X_test = X_test[feat]"
   ]
  },
  {
   "cell_type": "code",
   "execution_count": 35,
   "id": "7eff6ff2-6f26-40e0-86ff-81cc243da3d1",
   "metadata": {},
   "outputs": [],
   "source": [
    "best_params_cor = {'iterations': 1800, \n",
    "                        'learning_rate': 0.20649746303659136, \n",
    "                        'l2_leaf_reg': 4.37841702433753, \n",
    "                        'bagging_temperature': 1.6766419657563723, \n",
    "                        'random_strength': 1.9555985333019168, \n",
    "                        'depth': 7, \n",
    "                        'min_data_in_leaf': 91,\n",
    "                        'random_seed': 42,\n",
    "                        'colsample_bylevel': 0.9759404466998405}"
   ]
  },
  {
   "cell_type": "code",
   "execution_count": 56,
   "id": "b87d7b4b-4bdf-44e5-b52c-ea1f4eb4c641",
   "metadata": {},
   "outputs": [],
   "source": [
    "final_model = CatBoostClassifier(**best_params_cor, verbose=False)"
   ]
  },
  {
   "cell_type": "code",
   "execution_count": 113,
   "id": "85f4490b-76aa-4d15-8fad-cffebb2d1921",
   "metadata": {},
   "outputs": [
    {
     "data": {
      "text/plain": [
       "<catboost.core.CatBoostClassifier at 0x253b5a90a90>"
      ]
     },
     "execution_count": 113,
     "metadata": {},
     "output_type": "execute_result"
    }
   ],
   "source": [
    "final_model.fit(X, y)"
   ]
  },
  {
   "cell_type": "code",
   "execution_count": 115,
   "id": "9fcdfff6-a9e7-4067-b71b-31300d157a6a",
   "metadata": {},
   "outputs": [],
   "source": [
    "predictions = final_model.predict(X_test)\n",
    "predictions_proba = final_model.predict_proba(X_test)"
   ]
  },
  {
   "cell_type": "code",
   "execution_count": 117,
   "id": "4527a5b1-198f-4fae-add5-88333daf6ef8",
   "metadata": {},
   "outputs": [
    {
     "data": {
      "text/html": [
       "<div>\n",
       "<style scoped>\n",
       "    .dataframe tbody tr th:only-of-type {\n",
       "        vertical-align: middle;\n",
       "    }\n",
       "\n",
       "    .dataframe tbody tr th {\n",
       "        vertical-align: top;\n",
       "    }\n",
       "\n",
       "    .dataframe thead th {\n",
       "        text-align: right;\n",
       "    }\n",
       "</style>\n",
       "<table border=\"1\" class=\"dataframe\">\n",
       "  <thead>\n",
       "    <tr style=\"text-align: right;\">\n",
       "      <th></th>\n",
       "      <th>Metric</th>\n",
       "      <th>Score</th>\n",
       "    </tr>\n",
       "  </thead>\n",
       "  <tbody>\n",
       "    <tr>\n",
       "      <th>0</th>\n",
       "      <td>Recall</td>\n",
       "      <td>1.0</td>\n",
       "    </tr>\n",
       "    <tr>\n",
       "      <th>1</th>\n",
       "      <td>Precision</td>\n",
       "      <td>1.0</td>\n",
       "    </tr>\n",
       "    <tr>\n",
       "      <th>2</th>\n",
       "      <td>Specificity</td>\n",
       "      <td>1.0</td>\n",
       "    </tr>\n",
       "    <tr>\n",
       "      <th>3</th>\n",
       "      <td>NPV</td>\n",
       "      <td>1.0</td>\n",
       "    </tr>\n",
       "    <tr>\n",
       "      <th>4</th>\n",
       "      <td>AUC</td>\n",
       "      <td>1.0</td>\n",
       "    </tr>\n",
       "  </tbody>\n",
       "</table>\n",
       "</div>"
      ],
      "text/plain": [
       "        Metric  Score\n",
       "0       Recall    1.0\n",
       "1    Precision    1.0\n",
       "2  Specificity    1.0\n",
       "3          NPV    1.0\n",
       "4          AUC    1.0"
      ]
     },
     "execution_count": 117,
     "metadata": {},
     "output_type": "execute_result"
    }
   ],
   "source": [
    "funcs.metrics_binary(y_test, predictions, predictions_proba)"
   ]
  },
  {
   "cell_type": "code",
   "execution_count": 122,
   "id": "0184d5bd-a8a9-4255-9764-7e442f0200b4",
   "metadata": {},
   "outputs": [
    {
     "data": {
      "text/plain": [
       "array([[41,  0],\n",
       "       [ 0, 40]], dtype=int64)"
      ]
     },
     "execution_count": 122,
     "metadata": {},
     "output_type": "execute_result"
    }
   ],
   "source": [
    "confusion_matrix(y_test, predictions)"
   ]
  },
  {
   "cell_type": "code",
   "execution_count": 134,
   "id": "930931c8-b34d-4ec9-8f5c-4d6a1e3536d8",
   "metadata": {},
   "outputs": [
    {
     "data": {
      "image/png": "[encoded data removed]",
      "text/plain": [
       "<Figure size 1000x800 with 1 Axes>"
      ]
     },
     "metadata": {},
     "output_type": "display_data"
    }
   ],
   "source": [
    "n_classes = len(np.unique(y_test))\n",
    "class_labels = [\"Control\", \"AD\"]\n",
    "colors = ['blue', 'green']  # Define colors for the ROC curves\n",
    "\n",
    "# Create a plot for ROC curves\n",
    "plt.figure(figsize=(10, 8))\n",
    "\n",
    "for i in range(n_classes):\n",
    "    # Compute ROC curve and AUC\n",
    "    fpr, tpr, _ = roc_curve(y_test == i, predictions_proba[:, i])  # True binary labels for each class\n",
    "    roc_auc = auc(fpr, tpr)  # Calculate AUC\n",
    "\n",
    "    # Plot ROC curve\n",
    "    plt.plot(fpr, tpr, color=colors[i], label=f'{class_labels[i]} (AUC = {roc_auc:.2f})')\n",
    "\n",
    "# Plotting the diagonal line\n",
    "plt.plot([0, 1], [0, 1], 'k--', label='Random Guessing')  # Diagonal line for random guessing\n",
    "plt.xlim([-0.05, 1.0])\n",
    "plt.ylim([0.0, 1.05])\n",
    "plt.xlabel('False Positive Rate')\n",
    "plt.ylabel('True Positive Rate')\n",
    "plt.title('Receiver Operating Characteristic (ROC) Curves for Multi-class')\n",
    "plt.legend(loc='lower right')\n",
    "plt.grid()\n",
    "plt.show()"
   ]
  },
  {
   "cell_type": "code",
   "execution_count": 137,
   "id": "f5481c03-da24-42b6-b7f6-1aa70bbd33f4",
   "metadata": {},
   "outputs": [
    {
     "data": {
      "image/png": "[encoded data removed]",
      "text/plain": [
       "<Figure size 1000x600 with 1 Axes>"
      ]
     },
     "metadata": {},
     "output_type": "display_data"
    }
   ],
   "source": [
    "importances = final_model.feature_importances_\n",
    "feature_names = X.columns  # If using a DataFrame, otherwise, use the appropriate feature list\n",
    "\n",
    "# Sort feature importances\n",
    "indices = np.argsort(importances)[::-1][:10]\n",
    "# Create a bar plot of feature importances\n",
    "plt.figure(figsize=(10, 6))\n",
    "plt.title(\"Feature Importances\")\n",
    "plt.bar(range(10), importances[indices], align=\"center\")\n",
    "plt.xticks(range(10), feature_names[indices], rotation=90)\n",
    "plt.xlim([-1, 10])\n",
    "plt.ylabel(\"Importance\")\n",
    "plt.xlabel(\"Feature\")\n",
    "plt.tight_layout()\n",
    "plt.show()"
   ]
  }
 ],
 "metadata": {
  "kernelspec": {
   "display_name": "Python 3 (ipykernel)",
   "language": "python",
   "name": "python3"
  },
  "language_info": {
   "codemirror_mode": {
    "name": "ipython",
    "version": 3
   },
   "file_extension": ".py",
   "mimetype": "text/x-python",
   "name": "python",
   "nbconvert_exporter": "python",
   "pygments_lexer": "ipython3",
   "version": "3.11.7"
  }
 },
 "nbformat": 4,
 "nbformat_minor": 5
}
