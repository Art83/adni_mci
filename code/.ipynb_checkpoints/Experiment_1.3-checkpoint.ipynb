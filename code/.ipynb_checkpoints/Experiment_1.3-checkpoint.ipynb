{
 "cells": [
  {
   "cell_type": "code",
   "execution_count": 1,
   "id": "49c26303-5a85-441e-96aa-6a9ebcab9001",
   "metadata": {},
   "outputs": [
    {
     "name": "stderr",
     "output_type": "stream",
     "text": [
      "D:\\soft\\Anaconda\\envs\\adni\\Lib\\site-packages\\tqdm\\auto.py:21: TqdmWarning: IProgress not found. Please update jupyter and ipywidgets. See https://ipywidgets.readthedocs.io/en/stable/user_install.html\n",
      "  from .autonotebook import tqdm as notebook_tqdm\n"
     ]
    }
   ],
   "source": [
    "import pandas as pd\n",
    "import numpy as np\n",
    "from sklearn.model_selection import train_test_split\n",
    "from sklearn import metrics\n",
    "from imblearn.over_sampling import SMOTE\n",
    "import optuna\n",
    "from optuna.samplers import TPESampler\n",
    "from sklearn.preprocessing import StandardScaler\n",
    "from sklearn.model_selection import StratifiedKFold\n",
    "from sklearn.metrics import classification_report, accuracy_score, confusion_matrix, multilabel_confusion_matrix, roc_curve, auc, precision_score,recall_score,make_scorer,roc_auc_score\n",
    "import matplotlib.pyplot as plt\n",
    "import shap\n",
    "from sklearn.preprocessing import PolynomialFeatures\n",
    "from catboost import CatBoostClassifier\n",
    "import funcs\n",
    "from scipy.stats import f_oneway, kruskal, pointbiserialr"
   ]
  },
  {
   "cell_type": "code",
   "execution_count": 47,
   "id": "c26e22ff-8875-4366-a3b1-c7d61687e2a0",
   "metadata": {},
   "outputs": [
    {
     "data": {
      "text/html": [
       "<div>\n",
       "<style scoped>\n",
       "    .dataframe tbody tr th:only-of-type {\n",
       "        vertical-align: middle;\n",
       "    }\n",
       "\n",
       "    .dataframe tbody tr th {\n",
       "        vertical-align: top;\n",
       "    }\n",
       "\n",
       "    .dataframe thead th {\n",
       "        text-align: right;\n",
       "    }\n",
       "</style>\n",
       "<table border=\"1\" class=\"dataframe\">\n",
       "  <thead>\n",
       "    <tr style=\"text-align: right;\">\n",
       "      <th></th>\n",
       "      <th>RID</th>\n",
       "      <th>PTHAND</th>\n",
       "      <th>PTMARRY</th>\n",
       "      <th>PTEDUCAT</th>\n",
       "      <th>PTNOTRT</th>\n",
       "      <th>PTHOME</th>\n",
       "      <th>PTPLANG</th>\n",
       "      <th>PTETHCAT</th>\n",
       "      <th>PTRACCAT</th>\n",
       "      <th>age</th>\n",
       "      <th>...</th>\n",
       "      <th>RCT29</th>\n",
       "      <th>RCT3</th>\n",
       "      <th>RCT392</th>\n",
       "      <th>RCT4</th>\n",
       "      <th>RCT5</th>\n",
       "      <th>RCT6</th>\n",
       "      <th>RCT8</th>\n",
       "      <th>RCT9</th>\n",
       "      <th>apoe</th>\n",
       "      <th>DIAGNOSIS</th>\n",
       "    </tr>\n",
       "  </thead>\n",
       "  <tbody>\n",
       "    <tr>\n",
       "      <th>1</th>\n",
       "      <td>2</td>\n",
       "      <td>2</td>\n",
       "      <td>1</td>\n",
       "      <td>16</td>\n",
       "      <td>1</td>\n",
       "      <td>1</td>\n",
       "      <td>1</td>\n",
       "      <td>2</td>\n",
       "      <td>5</td>\n",
       "      <td>74.333333</td>\n",
       "      <td>...</td>\n",
       "      <td>0.2</td>\n",
       "      <td>19</td>\n",
       "      <td>1.1</td>\n",
       "      <td>21</td>\n",
       "      <td>19</td>\n",
       "      <td>15</td>\n",
       "      <td>5.6</td>\n",
       "      <td>3.0</td>\n",
       "      <td>2</td>\n",
       "      <td>Control</td>\n",
       "    </tr>\n",
       "    <tr>\n",
       "      <th>2</th>\n",
       "      <td>3</td>\n",
       "      <td>1</td>\n",
       "      <td>1</td>\n",
       "      <td>18</td>\n",
       "      <td>1</td>\n",
       "      <td>3</td>\n",
       "      <td>1</td>\n",
       "      <td>2</td>\n",
       "      <td>5</td>\n",
       "      <td>81.250000</td>\n",
       "      <td>...</td>\n",
       "      <td>0.1</td>\n",
       "      <td>21</td>\n",
       "      <td>1.3</td>\n",
       "      <td>16</td>\n",
       "      <td>19</td>\n",
       "      <td>19</td>\n",
       "      <td>6.9</td>\n",
       "      <td>3.5</td>\n",
       "      <td>3</td>\n",
       "      <td>AZ</td>\n",
       "    </tr>\n",
       "    <tr>\n",
       "      <th>3</th>\n",
       "      <td>4</td>\n",
       "      <td>1</td>\n",
       "      <td>1</td>\n",
       "      <td>10</td>\n",
       "      <td>0</td>\n",
       "      <td>1</td>\n",
       "      <td>2</td>\n",
       "      <td>1</td>\n",
       "      <td>5</td>\n",
       "      <td>67.583333</td>\n",
       "      <td>...</td>\n",
       "      <td>0.1</td>\n",
       "      <td>16</td>\n",
       "      <td>1.2</td>\n",
       "      <td>23</td>\n",
       "      <td>18</td>\n",
       "      <td>25</td>\n",
       "      <td>6.0</td>\n",
       "      <td>2.9</td>\n",
       "      <td>2</td>\n",
       "      <td>MCI</td>\n",
       "    </tr>\n",
       "    <tr>\n",
       "      <th>4</th>\n",
       "      <td>5</td>\n",
       "      <td>1</td>\n",
       "      <td>1</td>\n",
       "      <td>16</td>\n",
       "      <td>1</td>\n",
       "      <td>1</td>\n",
       "      <td>1</td>\n",
       "      <td>2</td>\n",
       "      <td>5</td>\n",
       "      <td>73.666667</td>\n",
       "      <td>...</td>\n",
       "      <td>0.2</td>\n",
       "      <td>16</td>\n",
       "      <td>1.0</td>\n",
       "      <td>17</td>\n",
       "      <td>24</td>\n",
       "      <td>14</td>\n",
       "      <td>5.7</td>\n",
       "      <td>3.2</td>\n",
       "      <td>2</td>\n",
       "      <td>Control</td>\n",
       "    </tr>\n",
       "    <tr>\n",
       "      <th>5</th>\n",
       "      <td>6</td>\n",
       "      <td>1</td>\n",
       "      <td>1</td>\n",
       "      <td>13</td>\n",
       "      <td>1</td>\n",
       "      <td>1</td>\n",
       "      <td>1</td>\n",
       "      <td>2</td>\n",
       "      <td>5</td>\n",
       "      <td>80.416667</td>\n",
       "      <td>...</td>\n",
       "      <td>0.2</td>\n",
       "      <td>19</td>\n",
       "      <td>1.1</td>\n",
       "      <td>16</td>\n",
       "      <td>19</td>\n",
       "      <td>23</td>\n",
       "      <td>5.3</td>\n",
       "      <td>4.5</td>\n",
       "      <td>2</td>\n",
       "      <td>MCI</td>\n",
       "    </tr>\n",
       "  </tbody>\n",
       "</table>\n",
       "<p>5 rows × 118 columns</p>\n",
       "</div>"
      ],
      "text/plain": [
       "   RID  PTHAND  PTMARRY  PTEDUCAT  PTNOTRT  PTHOME  PTPLANG  PTETHCAT  \\\n",
       "1    2       2        1        16        1       1        1         2   \n",
       "2    3       1        1        18        1       3        1         2   \n",
       "3    4       1        1        10        0       1        2         1   \n",
       "4    5       1        1        16        1       1        1         2   \n",
       "5    6       1        1        13        1       1        1         2   \n",
       "\n",
       "   PTRACCAT        age  ...  RCT29  RCT3  RCT392  RCT4  RCT5  RCT6  RCT8  \\\n",
       "1         5  74.333333  ...    0.2    19     1.1    21    19    15   5.6   \n",
       "2         5  81.250000  ...    0.1    21     1.3    16    19    19   6.9   \n",
       "3         5  67.583333  ...    0.1    16     1.2    23    18    25   6.0   \n",
       "4         5  73.666667  ...    0.2    16     1.0    17    24    14   5.7   \n",
       "5         5  80.416667  ...    0.2    19     1.1    16    19    23   5.3   \n",
       "\n",
       "   RCT9  apoe  DIAGNOSIS  \n",
       "1   3.0     2    Control  \n",
       "2   3.5     3         AZ  \n",
       "3   2.9     2        MCI  \n",
       "4   3.2     2    Control  \n",
       "5   4.5     2        MCI  \n",
       "\n",
       "[5 rows x 118 columns]"
      ]
     },
     "execution_count": 47,
     "metadata": {},
     "output_type": "execute_result"
    }
   ],
   "source": [
    "data = pd.read_csv(\"../objects/df_imputed_not_complete_874.csv\", index_col=0)\n",
    "data.head()"
   ]
  },
  {
   "cell_type": "code",
   "execution_count": 48,
   "id": "901ee48d-b304-455a-a572-7d14001e698b",
   "metadata": {},
   "outputs": [],
   "source": [
    "mci = pd.read_csv(\"../objects/MCI.csv\", index_col=0)"
   ]
  },
  {
   "cell_type": "code",
   "execution_count": 49,
   "id": "a786d6f5-6051-4d0e-94fb-0901ed89fe53",
   "metadata": {},
   "outputs": [],
   "source": [
    "mci1 = mci[mci['cluster'] == 'MCI3']['RID'].to_list()"
   ]
  },
  {
   "cell_type": "code",
   "execution_count": 50,
   "id": "222d56c4-58e2-4bca-8a77-cd8c65b9bdcf",
   "metadata": {},
   "outputs": [],
   "source": [
    "data = data[~data['RID'].isin(mci1)]"
   ]
  },
  {
   "cell_type": "code",
   "execution_count": 51,
   "id": "48115be4-78c8-42b9-a5fd-88dc90d5c7f6",
   "metadata": {},
   "outputs": [
    {
     "data": {
      "text/plain": [
       "DIAGNOSIS\n",
       "MCI        412\n",
       "Control    220\n",
       "AZ         181\n",
       "Name: count, dtype: int64"
      ]
     },
     "execution_count": 51,
     "metadata": {},
     "output_type": "execute_result"
    }
   ],
   "source": [
    "data['DIAGNOSIS'].value_counts()"
   ]
  },
  {
   "cell_type": "code",
   "execution_count": 52,
   "id": "07ff947c-4609-4972-a618-80a57ed76cff",
   "metadata": {},
   "outputs": [],
   "source": [
    "outcome = data['DIAGNOSIS']\n",
    "data.drop(['RID', 'DIAGNOSIS'], axis = 1, inplace=True)"
   ]
  },
  {
   "cell_type": "code",
   "execution_count": 53,
   "id": "c9e5f90c-ccb4-4cef-a496-6270f29cb83c",
   "metadata": {},
   "outputs": [],
   "source": [
    "outcome_mapping = {\"Control\": 0,\n",
    "                  \"MCI\": 1,\n",
    "                  \"AZ\": 2}\n",
    "outcome = outcome.map(outcome_mapping)"
   ]
  },
  {
   "cell_type": "code",
   "execution_count": 54,
   "id": "254131a2-f791-4f25-97c9-dad948ee9192",
   "metadata": {},
   "outputs": [],
   "source": [
    "X, X_test, y, y_test = train_test_split(data, outcome, test_size=0.2, random_state=43)"
   ]
  },
  {
   "cell_type": "code",
   "execution_count": 55,
   "id": "29a0e8da-ecfb-47b2-9da3-dfd96ecb74fd",
   "metadata": {},
   "outputs": [],
   "source": [
    "smote_over = SMOTE(random_state=44)\n",
    "X, y = smote_over.fit_resample(X, y)"
   ]
  },
  {
   "cell_type": "code",
   "execution_count": 56,
   "id": "e51ed0b7-4abf-40ca-92bd-715740eb6857",
   "metadata": {},
   "outputs": [],
   "source": [
    "best_params_filter_based = {'iterations': 1800, 'learning_rate': 0.20649746303659136, 'l2_leaf_reg': 4.37841702433753, 'bagging_temperature': 1.6766419657563723, 'random_strength': 1.9555985333019168, 'depth': 7, 'min_data_in_leaf': 91, 'colsample_bylevel': 0.9759404466998405}"
   ]
  },
  {
   "cell_type": "code",
   "execution_count": 57,
   "id": "f10be151-56fc-494a-b5ad-609083652382",
   "metadata": {},
   "outputs": [],
   "source": [
    "feat = [\"PTEDUCAT\", \"PTMARRY\", \"VSPULSE\", \"NXGAIT\", \"LIMMTOTAL\", \"LDELTOTAL\", \"MHPSYCH\", \"GDBORED\", \"GDDROP\", \"GDMEMORY\", \"GDHOPE\", \"GDBETTER\", \"HMT15\", \"HMT16\", \"HMT8\", \"apoe\"]"
   ]
  },
  {
   "cell_type": "code",
   "execution_count": 58,
   "id": "7b30d6a4-dea5-425a-b2c4-06a4bdfd1f3f",
   "metadata": {},
   "outputs": [],
   "source": [
    "final_model = CatBoostClassifier(**best_params_filter_based, loss_function=\"MultiClass\", verbose=False)"
   ]
  },
  {
   "cell_type": "code",
   "execution_count": 59,
   "id": "02494e88-6e2d-48d8-a41d-c0218c97c68b",
   "metadata": {},
   "outputs": [],
   "source": [
    "X_corr = X[feat]\n",
    "X_test_corr = X_test[feat]"
   ]
  },
  {
   "cell_type": "code",
   "execution_count": 60,
   "id": "e1a79f0f-4168-4daf-be1d-316e7274edaa",
   "metadata": {},
   "outputs": [
    {
     "data": {
      "text/plain": [
       "<catboost.core.CatBoostClassifier at 0x236e1f70b50>"
      ]
     },
     "execution_count": 60,
     "metadata": {},
     "output_type": "execute_result"
    }
   ],
   "source": [
    "final_model.fit(X_corr, y)"
   ]
  },
  {
   "cell_type": "code",
   "execution_count": 61,
   "id": "4e447abc-7141-4659-ac0f-d4d2d7747633",
   "metadata": {},
   "outputs": [],
   "source": [
    "predictions = final_model.predict(X_test_corr)\n",
    "predictions_proba = final_model.predict_proba(X_test_corr)"
   ]
  },
  {
   "cell_type": "code",
   "execution_count": 62,
   "id": "fcd43b39-5ed2-4d02-978d-d965dfc51ea9",
   "metadata": {},
   "outputs": [
    {
     "data": {
      "text/html": [
       "<div>\n",
       "<style scoped>\n",
       "    .dataframe tbody tr th:only-of-type {\n",
       "        vertical-align: middle;\n",
       "    }\n",
       "\n",
       "    .dataframe tbody tr th {\n",
       "        vertical-align: top;\n",
       "    }\n",
       "\n",
       "    .dataframe thead th {\n",
       "        text-align: right;\n",
       "    }\n",
       "</style>\n",
       "<table border=\"1\" class=\"dataframe\">\n",
       "  <thead>\n",
       "    <tr style=\"text-align: right;\">\n",
       "      <th></th>\n",
       "      <th>Class</th>\n",
       "      <th>Recall</th>\n",
       "      <th>Precision</th>\n",
       "      <th>Specificity</th>\n",
       "      <th>NPV</th>\n",
       "      <th>AUC</th>\n",
       "    </tr>\n",
       "  </thead>\n",
       "  <tbody>\n",
       "    <tr>\n",
       "      <th>0</th>\n",
       "      <td>0</td>\n",
       "      <td>1.000000</td>\n",
       "      <td>0.783784</td>\n",
       "      <td>0.940299</td>\n",
       "      <td>1.000000</td>\n",
       "      <td>0.997427</td>\n",
       "    </tr>\n",
       "    <tr>\n",
       "      <th>1</th>\n",
       "      <td>1</td>\n",
       "      <td>0.641304</td>\n",
       "      <td>0.776316</td>\n",
       "      <td>0.760563</td>\n",
       "      <td>0.620690</td>\n",
       "      <td>0.794550</td>\n",
       "    </tr>\n",
       "    <tr>\n",
       "      <th>2</th>\n",
       "      <td>2</td>\n",
       "      <td>0.595238</td>\n",
       "      <td>0.500000</td>\n",
       "      <td>0.793388</td>\n",
       "      <td>0.849558</td>\n",
       "      <td>0.787288</td>\n",
       "    </tr>\n",
       "  </tbody>\n",
       "</table>\n",
       "</div>"
      ],
      "text/plain": [
       "   Class    Recall  Precision  Specificity       NPV       AUC\n",
       "0      0  1.000000   0.783784     0.940299  1.000000  0.997427\n",
       "1      1  0.641304   0.776316     0.760563  0.620690  0.794550\n",
       "2      2  0.595238   0.500000     0.793388  0.849558  0.787288"
      ]
     },
     "execution_count": 62,
     "metadata": {},
     "output_type": "execute_result"
    }
   ],
   "source": [
    "funcs.metrics_merged(y_test, predictions, predictions_proba)"
   ]
  }
 ],
 "metadata": {
  "kernelspec": {
   "display_name": "Python 3 (ipykernel)",
   "language": "python",
   "name": "python3"
  },
  "language_info": {
   "codemirror_mode": {
    "name": "ipython",
    "version": 3
   },
   "file_extension": ".py",
   "mimetype": "text/x-python",
   "name": "python",
   "nbconvert_exporter": "python",
   "pygments_lexer": "ipython3",
   "version": "3.11.7"
  }
 },
 "nbformat": 4,
 "nbformat_minor": 5
}
