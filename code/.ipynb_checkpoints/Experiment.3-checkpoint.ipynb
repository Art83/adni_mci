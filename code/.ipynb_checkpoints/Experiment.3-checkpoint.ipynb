{
 "cells": [
  {
   "cell_type": "code",
   "execution_count": 475,
   "id": "8f9e41f1-d149-4a44-84fe-d4ca4dbc925c",
   "metadata": {},
   "outputs": [],
   "source": [
    "import pandas as pd\n",
    "import numpy as np\n",
    "import seaborn as sns\n",
    "import matplotlib.pyplot as plt\n",
    "from sklearn.model_selection import train_test_split\n",
    "from imblearn.over_sampling import SMOTE\n",
    "from catboost import CatBoostClassifier\n",
    "import funcs\n",
    "from sklearn.metrics import roc_curve, auc, confusion_matrix\n",
    "from sklearn.decomposition import PCA\n",
    "from sklearn.pipeline import Pipeline\n",
    "from sklearn.preprocessing import StandardScaler"
   ]
  },
  {
   "cell_type": "code",
   "execution_count": 748,
   "id": "417d525e-f634-4f47-880f-4a8cdb8658e6",
   "metadata": {},
   "outputs": [
    {
     "data": {
      "text/html": [
       "<div>\n",
       "<style scoped>\n",
       "    .dataframe tbody tr th:only-of-type {\n",
       "        vertical-align: middle;\n",
       "    }\n",
       "\n",
       "    .dataframe tbody tr th {\n",
       "        vertical-align: top;\n",
       "    }\n",
       "\n",
       "    .dataframe thead th {\n",
       "        text-align: right;\n",
       "    }\n",
       "</style>\n",
       "<table border=\"1\" class=\"dataframe\">\n",
       "  <thead>\n",
       "    <tr style=\"text-align: right;\">\n",
       "      <th></th>\n",
       "      <th>RID</th>\n",
       "      <th>PTHAND</th>\n",
       "      <th>PTMARRY</th>\n",
       "      <th>PTEDUCAT</th>\n",
       "      <th>PTNOTRT</th>\n",
       "      <th>PTHOME</th>\n",
       "      <th>PTPLANG</th>\n",
       "      <th>PTETHCAT</th>\n",
       "      <th>PTRACCAT</th>\n",
       "      <th>age</th>\n",
       "      <th>...</th>\n",
       "      <th>RCT29</th>\n",
       "      <th>RCT3</th>\n",
       "      <th>RCT392</th>\n",
       "      <th>RCT4</th>\n",
       "      <th>RCT5</th>\n",
       "      <th>RCT6</th>\n",
       "      <th>RCT8</th>\n",
       "      <th>RCT9</th>\n",
       "      <th>apoe</th>\n",
       "      <th>DIAGNOSIS</th>\n",
       "    </tr>\n",
       "  </thead>\n",
       "  <tbody>\n",
       "    <tr>\n",
       "      <th>1</th>\n",
       "      <td>2</td>\n",
       "      <td>2</td>\n",
       "      <td>1</td>\n",
       "      <td>16</td>\n",
       "      <td>1</td>\n",
       "      <td>1</td>\n",
       "      <td>1</td>\n",
       "      <td>2</td>\n",
       "      <td>5</td>\n",
       "      <td>74.333333</td>\n",
       "      <td>...</td>\n",
       "      <td>0.2</td>\n",
       "      <td>19</td>\n",
       "      <td>1.1</td>\n",
       "      <td>21</td>\n",
       "      <td>19</td>\n",
       "      <td>15</td>\n",
       "      <td>5.6</td>\n",
       "      <td>3.0</td>\n",
       "      <td>2</td>\n",
       "      <td>Control</td>\n",
       "    </tr>\n",
       "    <tr>\n",
       "      <th>2</th>\n",
       "      <td>3</td>\n",
       "      <td>1</td>\n",
       "      <td>1</td>\n",
       "      <td>18</td>\n",
       "      <td>1</td>\n",
       "      <td>3</td>\n",
       "      <td>1</td>\n",
       "      <td>2</td>\n",
       "      <td>5</td>\n",
       "      <td>81.250000</td>\n",
       "      <td>...</td>\n",
       "      <td>0.1</td>\n",
       "      <td>21</td>\n",
       "      <td>1.3</td>\n",
       "      <td>16</td>\n",
       "      <td>19</td>\n",
       "      <td>19</td>\n",
       "      <td>6.9</td>\n",
       "      <td>3.5</td>\n",
       "      <td>3</td>\n",
       "      <td>AZ</td>\n",
       "    </tr>\n",
       "    <tr>\n",
       "      <th>3</th>\n",
       "      <td>4</td>\n",
       "      <td>1</td>\n",
       "      <td>1</td>\n",
       "      <td>10</td>\n",
       "      <td>0</td>\n",
       "      <td>1</td>\n",
       "      <td>2</td>\n",
       "      <td>1</td>\n",
       "      <td>5</td>\n",
       "      <td>67.583333</td>\n",
       "      <td>...</td>\n",
       "      <td>0.1</td>\n",
       "      <td>16</td>\n",
       "      <td>1.2</td>\n",
       "      <td>23</td>\n",
       "      <td>18</td>\n",
       "      <td>25</td>\n",
       "      <td>6.0</td>\n",
       "      <td>2.9</td>\n",
       "      <td>2</td>\n",
       "      <td>MCI</td>\n",
       "    </tr>\n",
       "    <tr>\n",
       "      <th>4</th>\n",
       "      <td>5</td>\n",
       "      <td>1</td>\n",
       "      <td>1</td>\n",
       "      <td>16</td>\n",
       "      <td>1</td>\n",
       "      <td>1</td>\n",
       "      <td>1</td>\n",
       "      <td>2</td>\n",
       "      <td>5</td>\n",
       "      <td>73.666667</td>\n",
       "      <td>...</td>\n",
       "      <td>0.2</td>\n",
       "      <td>16</td>\n",
       "      <td>1.0</td>\n",
       "      <td>17</td>\n",
       "      <td>24</td>\n",
       "      <td>14</td>\n",
       "      <td>5.7</td>\n",
       "      <td>3.2</td>\n",
       "      <td>2</td>\n",
       "      <td>Control</td>\n",
       "    </tr>\n",
       "    <tr>\n",
       "      <th>5</th>\n",
       "      <td>6</td>\n",
       "      <td>1</td>\n",
       "      <td>1</td>\n",
       "      <td>13</td>\n",
       "      <td>1</td>\n",
       "      <td>1</td>\n",
       "      <td>1</td>\n",
       "      <td>2</td>\n",
       "      <td>5</td>\n",
       "      <td>80.416667</td>\n",
       "      <td>...</td>\n",
       "      <td>0.2</td>\n",
       "      <td>19</td>\n",
       "      <td>1.1</td>\n",
       "      <td>16</td>\n",
       "      <td>19</td>\n",
       "      <td>23</td>\n",
       "      <td>5.3</td>\n",
       "      <td>4.5</td>\n",
       "      <td>2</td>\n",
       "      <td>MCI</td>\n",
       "    </tr>\n",
       "  </tbody>\n",
       "</table>\n",
       "<p>5 rows × 118 columns</p>\n",
       "</div>"
      ],
      "text/plain": [
       "   RID  PTHAND  PTMARRY  PTEDUCAT  PTNOTRT  PTHOME  PTPLANG  PTETHCAT  \\\n",
       "1    2       2        1        16        1       1        1         2   \n",
       "2    3       1        1        18        1       3        1         2   \n",
       "3    4       1        1        10        0       1        2         1   \n",
       "4    5       1        1        16        1       1        1         2   \n",
       "5    6       1        1        13        1       1        1         2   \n",
       "\n",
       "   PTRACCAT        age  ...  RCT29  RCT3  RCT392  RCT4  RCT5  RCT6  RCT8  \\\n",
       "1         5  74.333333  ...    0.2    19     1.1    21    19    15   5.6   \n",
       "2         5  81.250000  ...    0.1    21     1.3    16    19    19   6.9   \n",
       "3         5  67.583333  ...    0.1    16     1.2    23    18    25   6.0   \n",
       "4         5  73.666667  ...    0.2    16     1.0    17    24    14   5.7   \n",
       "5         5  80.416667  ...    0.2    19     1.1    16    19    23   5.3   \n",
       "\n",
       "   RCT9  apoe  DIAGNOSIS  \n",
       "1   3.0     2    Control  \n",
       "2   3.5     3         AZ  \n",
       "3   2.9     2        MCI  \n",
       "4   3.2     2    Control  \n",
       "5   4.5     2        MCI  \n",
       "\n",
       "[5 rows x 118 columns]"
      ]
     },
     "execution_count": 748,
     "metadata": {},
     "output_type": "execute_result"
    }
   ],
   "source": [
    "data = pd.read_csv(\"../objects/df_imputed_not_complete_874.csv\", index_col=0)\n",
    "data.head()"
   ]
  },
  {
   "cell_type": "code",
   "execution_count": 750,
   "id": "16dfb302-e2a2-4826-b56c-8e6eafdf0a8b",
   "metadata": {},
   "outputs": [],
   "source": [
    "data['apoe_2'] = data['apoe'].replace({1: 0, 2: 0, 3: 1, 4: 1})\n",
    "data['education_category'] = pd.cut(\n",
    "    data['PTEDUCAT'], \n",
    "    bins=[0, 12, 17, 19, 100],  # Define the bins for categories\n",
    "    labels=[1, 2, 3, 4]  # Corresponding categories\n",
    ")\n",
    "data['education_category'] = data['education_category'].astype(np.int64)\n",
    "data['PTMARRY_bin'] = np.where(data['PTMARRY'] == 2, 1, 0)\n",
    "data['PTMARRY_bin'] = data['PTMARRY_bin'].astype(np.int64)"
   ]
  },
  {
   "cell_type": "markdown",
   "id": "8c8980bd-9daf-4e95-aeef-abe752f79e3c",
   "metadata": {},
   "source": [
    "## Importing MCI cluster labels"
   ]
  },
  {
   "cell_type": "code",
   "execution_count": 695,
   "id": "c5450e4f-28e3-457f-91aa-dc104926c29b",
   "metadata": {},
   "outputs": [],
   "source": [
    "df_mci = pd.read_csv('../objects/clusters_MCI_2.csv', index_col=0)"
   ]
  },
  {
   "cell_type": "code",
   "execution_count": 499,
   "id": "650ed821-cb58-4089-807d-0d5d6deeb57a",
   "metadata": {},
   "outputs": [],
   "source": [
    "df_mci = df_mci[[\"RID\", \"cluster\"]]"
   ]
  },
  {
   "cell_type": "code",
   "execution_count": 752,
   "id": "f8f7c0f9-6162-4de7-95da-3cd710248305",
   "metadata": {},
   "outputs": [],
   "source": [
    "df_mci = pd.read_csv('../objects/MCI_4.csv', index_col=0)"
   ]
  },
  {
   "cell_type": "code",
   "execution_count": 754,
   "id": "28bd4f87-f7b4-4fc7-a1d7-83a675a8fe26",
   "metadata": {},
   "outputs": [],
   "source": [
    "ids_to_exclude_AD = df_mci[df_mci['cluster'] == \"MCI2\"]['RID'].to_list()\n",
    "ids_to_exclude_Healthy = df_mci[df_mci['cluster'] == \"MCI3\"]['RID'].to_list()\n",
    "ids_to_exclude_Middle = df_mci[df_mci['cluster'] == \"MCI1\"]['RID'].to_list()"
   ]
  },
  {
   "cell_type": "code",
   "execution_count": 756,
   "id": "e6ee81a2-1c60-401a-a6a6-b617adc1fe98",
   "metadata": {},
   "outputs": [],
   "source": [
    "data_no_MCI_AD = data[~data['RID'].isin(ids_to_exclude_AD)].copy()\n",
    "data_no_MCI_Healthy = data[~data['RID'].isin(ids_to_exclude_Healthy)].copy()\n",
    "data_no_MCI_Middle = data[~data['RID'].isin(ids_to_exclude_Middle)].copy()"
   ]
  },
  {
   "cell_type": "markdown",
   "id": "d487f218-027c-4824-a20f-5b9582a51d57",
   "metadata": {},
   "source": [
    "## No MCI_healthy subgroup"
   ]
  },
  {
   "cell_type": "code",
   "execution_count": 758,
   "id": "49c9a44a-e3f0-4609-9a15-bd574e4be266",
   "metadata": {},
   "outputs": [],
   "source": [
    "outcome = data_no_MCI_Healthy['DIAGNOSIS'].copy()\n",
    "outcome = outcome.replace({\"Control\": 0,\n",
    "                  \"MCI\": 1,\n",
    "                  \"AZ\": 2})\n",
    "data_no_MCI_Healthy.drop(['RID', 'DIAGNOSIS'], axis = 1, inplace=True)"
   ]
  },
  {
   "cell_type": "code",
   "execution_count": 641,
   "id": "ccfab2d4-e53c-4091-8fae-4523e2e5fe84",
   "metadata": {},
   "outputs": [],
   "source": [
    "feat = ['weight',\n",
    " 'height',\n",
    " 'VSPULSE',\n",
    " 'LIMMTOTAL',\n",
    " 'LDELTOTAL',\n",
    " 'GDTOTAL',\n",
    " 'HMT100',\n",
    " 'HMT15',\n",
    " 'HMT16',\n",
    " 'HMT8',\n",
    " 'GDMEMORY',\n",
    " 'apoe',\n",
    " 'MHPSYCH',\n",
    " 'PTEDUCAT',\n",
    " 'GDDROP',\n",
    " 'NXGAIT',\n",
    " 'PTHOME',\n",
    " 'GDBETTER',\n",
    " 'GDBORED',\n",
    " 'GDHOPE',\n",
    " 'GDHELP']"
   ]
  },
  {
   "cell_type": "code",
   "execution_count": 764,
   "id": "2959b1c4-f125-40c0-9177-30d3b38d8de8",
   "metadata": {},
   "outputs": [],
   "source": [
    "feat = ['NXGAIT', \"MHPSYCH\", \"GDDROP\", \"GDBORED\", \"GDMEMORY\", \"GDBETTER\", \"GDTOTAL\", \"HMT15\", \"HMT8\",\"LDELTOTAL\", \"LIMMTOTAL\", \"apoe_2\", \"PTMARRY_bin\", \"education_category\"]"
   ]
  },
  {
   "cell_type": "code",
   "execution_count": 766,
   "id": "6c40973e-1cdd-4f60-ab9e-3b68b244907e",
   "metadata": {},
   "outputs": [],
   "source": [
    "X, X_test, y, y_test = train_test_split(data_no_MCI_Healthy[feat], outcome, test_size=0.2, random_state=43)"
   ]
  },
  {
   "cell_type": "code",
   "execution_count": 768,
   "id": "ddd8815a-dede-4c97-8124-c14971be8b80",
   "metadata": {},
   "outputs": [],
   "source": [
    "smote_over = SMOTE(random_state=44)\n",
    "X, y = smote_over.fit_resample(X, y)"
   ]
  },
  {
   "cell_type": "code",
   "execution_count": 257,
   "id": "06422e14-36f0-4233-b9bc-5df13911d5fc",
   "metadata": {},
   "outputs": [],
   "source": [
    "best_params_feat_selection = {\"iterations\": 1800, \n",
    "                              \"learning_rate\": 0.20649746303659136, \n",
    "                              \"l2_leaf_reg\": 4.37841702433753, \n",
    "                              \"bagging_temperature\": 1.6766419657563723, \n",
    "                              \"random_strength\": 1.9555985333019168, \n",
    "                              \"depth\": 7, \n",
    "                              \"min_data_in_leaf\": 91, \n",
    "                              'random_seed': 42,\n",
    "                              'loss_function': \"MultiClass\",\n",
    "                              \"colsample_bylevel\": 0.9759404466998405}"
   ]
  },
  {
   "cell_type": "code",
   "execution_count": 655,
   "id": "4eeed083-3c79-4083-94f5-dee5751f82af",
   "metadata": {},
   "outputs": [],
   "source": [
    "best_params = {\"iterations\": 1900, \n",
    "               \"learning_rate\": 0.0980771768328211, \n",
    "               \"l2_leaf_reg\": 1.0838481536171913, \n",
    "               \"bagging_temperature\": 0.7706864112026646, \n",
    "               \"random_strength\": 2.283941634872743, \n",
    "               \"depth\": 8, \n",
    "               'random_seed': 42,\n",
    "               \"min_data_in_leaf\": 72}"
   ]
  },
  {
   "cell_type": "code",
   "execution_count": 770,
   "id": "66ac1bc4-8bc4-44b7-83b3-c05b51350c61",
   "metadata": {},
   "outputs": [],
   "source": [
    "final_model = CatBoostClassifier(**best_params, verbose=False)"
   ]
  },
  {
   "cell_type": "code",
   "execution_count": 772,
   "id": "469fb539-fb4f-482c-be09-f377449b82ed",
   "metadata": {},
   "outputs": [
    {
     "data": {
      "text/plain": [
       "<catboost.core.CatBoostClassifier at 0x1aacb1df750>"
      ]
     },
     "execution_count": 772,
     "metadata": {},
     "output_type": "execute_result"
    }
   ],
   "source": [
    "final_model.fit(X, y)"
   ]
  },
  {
   "cell_type": "code",
   "execution_count": 774,
   "id": "9437c04e-fa52-4f08-90c2-2bb057823ddf",
   "metadata": {},
   "outputs": [],
   "source": [
    "predictions = final_model.predict(X_test)\n",
    "predictions_proba = final_model.predict_proba(X_test)"
   ]
  },
  {
   "cell_type": "code",
   "execution_count": 776,
   "id": "57ec8b95-e257-4348-b29a-b0056e99d9ab",
   "metadata": {},
   "outputs": [
    {
     "data": {
      "text/html": [
       "<div>\n",
       "<style scoped>\n",
       "    .dataframe tbody tr th:only-of-type {\n",
       "        vertical-align: middle;\n",
       "    }\n",
       "\n",
       "    .dataframe tbody tr th {\n",
       "        vertical-align: top;\n",
       "    }\n",
       "\n",
       "    .dataframe thead th {\n",
       "        text-align: right;\n",
       "    }\n",
       "</style>\n",
       "<table border=\"1\" class=\"dataframe\">\n",
       "  <thead>\n",
       "    <tr style=\"text-align: right;\">\n",
       "      <th></th>\n",
       "      <th>Class</th>\n",
       "      <th>Recall</th>\n",
       "      <th>Precision</th>\n",
       "      <th>Specificity</th>\n",
       "      <th>NPV</th>\n",
       "      <th>AUC</th>\n",
       "    </tr>\n",
       "  </thead>\n",
       "  <tbody>\n",
       "    <tr>\n",
       "      <th>0</th>\n",
       "      <td>Control</td>\n",
       "      <td>0.909091</td>\n",
       "      <td>0.952381</td>\n",
       "      <td>0.980000</td>\n",
       "      <td>0.960784</td>\n",
       "      <td>0.993182</td>\n",
       "    </tr>\n",
       "    <tr>\n",
       "      <th>1</th>\n",
       "      <td>MCI</td>\n",
       "      <td>0.753623</td>\n",
       "      <td>0.838710</td>\n",
       "      <td>0.866667</td>\n",
       "      <td>0.792683</td>\n",
       "      <td>0.907633</td>\n",
       "    </tr>\n",
       "    <tr>\n",
       "      <th>2</th>\n",
       "      <td>AD</td>\n",
       "      <td>0.806452</td>\n",
       "      <td>0.625000</td>\n",
       "      <td>0.867257</td>\n",
       "      <td>0.942308</td>\n",
       "      <td>0.926349</td>\n",
       "    </tr>\n",
       "  </tbody>\n",
       "</table>\n",
       "</div>"
      ],
      "text/plain": [
       "     Class    Recall  Precision  Specificity       NPV       AUC\n",
       "0  Control  0.909091   0.952381     0.980000  0.960784  0.993182\n",
       "1      MCI  0.753623   0.838710     0.866667  0.792683  0.907633\n",
       "2       AD  0.806452   0.625000     0.867257  0.942308  0.926349"
      ]
     },
     "execution_count": 776,
     "metadata": {},
     "output_type": "execute_result"
    }
   ],
   "source": [
    "funcs.metrics_merged(y_test, predictions, predictions_proba)"
   ]
  },
  {
   "cell_type": "markdown",
   "id": "bcf06f0f-db99-4849-900e-a6c2f15a091d",
   "metadata": {},
   "source": [
    "## No MCI_Middle subgroup"
   ]
  },
  {
   "cell_type": "code",
   "execution_count": 778,
   "id": "8c5cf02c-5dcc-44f3-b390-9f00aa4b6383",
   "metadata": {},
   "outputs": [],
   "source": [
    "outcome = data_no_MCI_Middle['DIAGNOSIS']\n",
    "outcome = outcome.replace({\"Control\": 0,\n",
    "                  \"MCI\": 1,\n",
    "                  \"AZ\": 2})\n",
    "data_no_MCI_Middle.drop(['RID', 'DIAGNOSIS'], axis = 1, inplace=True)"
   ]
  },
  {
   "cell_type": "code",
   "execution_count": 780,
   "id": "054a199b-b69d-4cce-a6dc-8718b0ef37ed",
   "metadata": {},
   "outputs": [],
   "source": [
    "X, X_test, y, y_test = train_test_split(data_no_MCI_Middle[feat], outcome, test_size=0.2, random_state=43)"
   ]
  },
  {
   "cell_type": "code",
   "execution_count": 782,
   "id": "3f409b42-34fb-4f52-837b-432221dc8ffe",
   "metadata": {},
   "outputs": [],
   "source": [
    "smote_over = SMOTE(random_state=44)\n",
    "X, y = smote_over.fit_resample(X, y)"
   ]
  },
  {
   "cell_type": "code",
   "execution_count": 529,
   "id": "a4cd94a8-f24d-4229-9f37-10b0b7ad2c0a",
   "metadata": {},
   "outputs": [],
   "source": [
    "final_model = CatBoostClassifier(**best_params, verbose=False)"
   ]
  },
  {
   "cell_type": "code",
   "execution_count": 784,
   "id": "171025f7-37ad-4b37-baef-9bd8e636dc2c",
   "metadata": {},
   "outputs": [
    {
     "data": {
      "text/plain": [
       "<catboost.core.CatBoostClassifier at 0x1aacb1df750>"
      ]
     },
     "execution_count": 784,
     "metadata": {},
     "output_type": "execute_result"
    }
   ],
   "source": [
    "final_model.fit(X, y)"
   ]
  },
  {
   "cell_type": "code",
   "execution_count": 785,
   "id": "46a43fbe-f36b-426d-9415-e3a5a7a013b0",
   "metadata": {},
   "outputs": [],
   "source": [
    "predictions = final_model.predict(X_test)\n",
    "predictions_proba = final_model.predict_proba(X_test)"
   ]
  },
  {
   "cell_type": "code",
   "execution_count": 786,
   "id": "0fd0a715-be4f-4520-a8d6-fd93a1f0ca28",
   "metadata": {},
   "outputs": [
    {
     "data": {
      "text/html": [
       "<div>\n",
       "<style scoped>\n",
       "    .dataframe tbody tr th:only-of-type {\n",
       "        vertical-align: middle;\n",
       "    }\n",
       "\n",
       "    .dataframe tbody tr th {\n",
       "        vertical-align: top;\n",
       "    }\n",
       "\n",
       "    .dataframe thead th {\n",
       "        text-align: right;\n",
       "    }\n",
       "</style>\n",
       "<table border=\"1\" class=\"dataframe\">\n",
       "  <thead>\n",
       "    <tr style=\"text-align: right;\">\n",
       "      <th></th>\n",
       "      <th>Class</th>\n",
       "      <th>Recall</th>\n",
       "      <th>Precision</th>\n",
       "      <th>Specificity</th>\n",
       "      <th>NPV</th>\n",
       "      <th>AUC</th>\n",
       "    </tr>\n",
       "  </thead>\n",
       "  <tbody>\n",
       "    <tr>\n",
       "      <th>0</th>\n",
       "      <td>Control</td>\n",
       "      <td>0.846154</td>\n",
       "      <td>0.846154</td>\n",
       "      <td>0.950820</td>\n",
       "      <td>0.950820</td>\n",
       "      <td>0.968474</td>\n",
       "    </tr>\n",
       "    <tr>\n",
       "      <th>1</th>\n",
       "      <td>MCI</td>\n",
       "      <td>0.837500</td>\n",
       "      <td>0.744444</td>\n",
       "      <td>0.716049</td>\n",
       "      <td>0.816901</td>\n",
       "      <td>0.833796</td>\n",
       "    </tr>\n",
       "    <tr>\n",
       "      <th>2</th>\n",
       "      <td>AD</td>\n",
       "      <td>0.595238</td>\n",
       "      <td>0.781250</td>\n",
       "      <td>0.941176</td>\n",
       "      <td>0.868217</td>\n",
       "      <td>0.887555</td>\n",
       "    </tr>\n",
       "  </tbody>\n",
       "</table>\n",
       "</div>"
      ],
      "text/plain": [
       "     Class    Recall  Precision  Specificity       NPV       AUC\n",
       "0  Control  0.846154   0.846154     0.950820  0.950820  0.968474\n",
       "1      MCI  0.837500   0.744444     0.716049  0.816901  0.833796\n",
       "2       AD  0.595238   0.781250     0.941176  0.868217  0.887555"
      ]
     },
     "execution_count": 786,
     "metadata": {},
     "output_type": "execute_result"
    }
   ],
   "source": [
    "funcs.metrics_merged(y_test, predictions, predictions_proba)"
   ]
  },
  {
   "cell_type": "markdown",
   "id": "cceee3ce-9beb-4af0-a125-389670c51880",
   "metadata": {},
   "source": [
    "## No MCI_AD subgroup"
   ]
  },
  {
   "cell_type": "code",
   "execution_count": 790,
   "id": "8ebc209f-db5e-45db-93fc-c166acdb6a2a",
   "metadata": {},
   "outputs": [],
   "source": [
    "outcome = data_no_MCI_AD['DIAGNOSIS']\n",
    "outcome = outcome.replace({\"Control\": 0,\n",
    "                  \"MCI\": 1,\n",
    "                  \"AZ\": 2})\n",
    "data_no_MCI_AD.drop(['RID', 'DIAGNOSIS'], axis = 1, inplace=True)"
   ]
  },
  {
   "cell_type": "code",
   "execution_count": 792,
   "id": "a0746ea1-20ee-4379-a0aa-24b72b58e9fd",
   "metadata": {},
   "outputs": [],
   "source": [
    "X, X_test, y, y_test = train_test_split(data_no_MCI_AD[feat], outcome, test_size=0.2, random_state=43)"
   ]
  },
  {
   "cell_type": "code",
   "execution_count": 794,
   "id": "9061c2e6-5fa1-4df3-bb17-009313925ab0",
   "metadata": {},
   "outputs": [],
   "source": [
    "smote_over = SMOTE(random_state=44)\n",
    "X, y = smote_over.fit_resample(X, y)"
   ]
  },
  {
   "cell_type": "code",
   "execution_count": 566,
   "id": "549dfbe1-4213-47d0-a411-cdefafcb7173",
   "metadata": {},
   "outputs": [],
   "source": [
    "final_model = CatBoostClassifier(**best_params, verbose=False)"
   ]
  },
  {
   "cell_type": "code",
   "execution_count": 796,
   "id": "30ce0d27-96f4-4fa6-be31-6c4ac869cede",
   "metadata": {},
   "outputs": [
    {
     "data": {
      "text/plain": [
       "<catboost.core.CatBoostClassifier at 0x1aacb1df750>"
      ]
     },
     "execution_count": 796,
     "metadata": {},
     "output_type": "execute_result"
    }
   ],
   "source": [
    "final_model.fit(X, y)"
   ]
  },
  {
   "cell_type": "code",
   "execution_count": 797,
   "id": "39ab0b6e-961f-4583-9f2c-521423e508d9",
   "metadata": {},
   "outputs": [],
   "source": [
    "predictions = final_model.predict(X_test)\n",
    "predictions_proba = final_model.predict_proba(X_test)"
   ]
  },
  {
   "cell_type": "code",
   "execution_count": 798,
   "id": "07538e9d-ac10-4222-87fb-571a8c80c374",
   "metadata": {},
   "outputs": [
    {
     "data": {
      "text/html": [
       "<div>\n",
       "<style scoped>\n",
       "    .dataframe tbody tr th:only-of-type {\n",
       "        vertical-align: middle;\n",
       "    }\n",
       "\n",
       "    .dataframe tbody tr th {\n",
       "        vertical-align: top;\n",
       "    }\n",
       "\n",
       "    .dataframe thead th {\n",
       "        text-align: right;\n",
       "    }\n",
       "</style>\n",
       "<table border=\"1\" class=\"dataframe\">\n",
       "  <thead>\n",
       "    <tr style=\"text-align: right;\">\n",
       "      <th></th>\n",
       "      <th>Class</th>\n",
       "      <th>Recall</th>\n",
       "      <th>Precision</th>\n",
       "      <th>Specificity</th>\n",
       "      <th>NPV</th>\n",
       "      <th>AUC</th>\n",
       "    </tr>\n",
       "  </thead>\n",
       "  <tbody>\n",
       "    <tr>\n",
       "      <th>0</th>\n",
       "      <td>Control</td>\n",
       "      <td>0.891304</td>\n",
       "      <td>0.891304</td>\n",
       "      <td>0.936709</td>\n",
       "      <td>0.936709</td>\n",
       "      <td>0.970281</td>\n",
       "    </tr>\n",
       "    <tr>\n",
       "      <th>1</th>\n",
       "      <td>MCI</td>\n",
       "      <td>0.829268</td>\n",
       "      <td>0.755556</td>\n",
       "      <td>0.869048</td>\n",
       "      <td>0.912500</td>\n",
       "      <td>0.927120</td>\n",
       "    </tr>\n",
       "    <tr>\n",
       "      <th>2</th>\n",
       "      <td>AD</td>\n",
       "      <td>0.815789</td>\n",
       "      <td>0.911765</td>\n",
       "      <td>0.965517</td>\n",
       "      <td>0.923077</td>\n",
       "      <td>0.967030</td>\n",
       "    </tr>\n",
       "  </tbody>\n",
       "</table>\n",
       "</div>"
      ],
      "text/plain": [
       "     Class    Recall  Precision  Specificity       NPV       AUC\n",
       "0  Control  0.891304   0.891304     0.936709  0.936709  0.970281\n",
       "1      MCI  0.829268   0.755556     0.869048  0.912500  0.927120\n",
       "2       AD  0.815789   0.911765     0.965517  0.923077  0.967030"
      ]
     },
     "execution_count": 798,
     "metadata": {},
     "output_type": "execute_result"
    }
   ],
   "source": [
    "funcs.metrics_merged(y_test, predictions, predictions_proba)"
   ]
  },
  {
   "cell_type": "code",
   "execution_count": 802,
   "id": "75152bb8-858e-464f-affd-b3c0742a2bfa",
   "metadata": {},
   "outputs": [
    {
     "data": {
      "text/plain": [
       "array([[41,  4,  1],\n",
       "       [ 5, 34,  2],\n",
       "       [ 0,  7, 31]], dtype=int64)"
      ]
     },
     "execution_count": 802,
     "metadata": {},
     "output_type": "execute_result"
    }
   ],
   "source": [
    "confusion_matrix(y_test, predictions)"
   ]
  },
  {
   "cell_type": "code",
   "execution_count": null,
   "id": "49ea7748-c7dd-4dc0-9277-5fde1ab8d6ec",
   "metadata": {},
   "outputs": [],
   "source": []
  }
 ],
 "metadata": {
  "kernelspec": {
   "display_name": "Python 3 (ipykernel)",
   "language": "python",
   "name": "python3"
  },
  "language_info": {
   "codemirror_mode": {
    "name": "ipython",
    "version": 3
   },
   "file_extension": ".py",
   "mimetype": "text/x-python",
   "name": "python",
   "nbconvert_exporter": "python",
   "pygments_lexer": "ipython3",
   "version": "3.11.7"
  }
 },
 "nbformat": 4,
 "nbformat_minor": 5
}
