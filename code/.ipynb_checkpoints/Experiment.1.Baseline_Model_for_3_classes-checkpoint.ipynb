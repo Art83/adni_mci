{
 "cells": [
  {
   "cell_type": "code",
   "execution_count": 3,
   "id": "862bd8ae-60e4-4232-9e38-ca78d379f347",
   "metadata": {},
   "outputs": [],
   "source": [
    "import pandas as pd\n",
    "import matplotlib.pyplot as plt\n",
    "import numpy as np\n",
    "from sklearn.model_selection import train_test_split\n",
    "from imblearn.over_sampling import SMOTE\n",
    "from catboost import CatBoostClassifier\n",
    "import funcs\n",
    "from sklearn.metrics import roc_curve, auc, confusion_matrix"
   ]
  },
  {
   "cell_type": "code",
   "execution_count": 79,
   "id": "2f652213-2085-4351-a0b2-3c7e88ac4b45",
   "metadata": {},
   "outputs": [
    {
     "data": {
      "text/html": [
       "<div>\n",
       "<style scoped>\n",
       "    .dataframe tbody tr th:only-of-type {\n",
       "        vertical-align: middle;\n",
       "    }\n",
       "\n",
       "    .dataframe tbody tr th {\n",
       "        vertical-align: top;\n",
       "    }\n",
       "\n",
       "    .dataframe thead th {\n",
       "        text-align: right;\n",
       "    }\n",
       "</style>\n",
       "<table border=\"1\" class=\"dataframe\">\n",
       "  <thead>\n",
       "    <tr style=\"text-align: right;\">\n",
       "      <th></th>\n",
       "      <th>RID</th>\n",
       "      <th>PTHAND</th>\n",
       "      <th>PTMARRY</th>\n",
       "      <th>PTEDUCAT</th>\n",
       "      <th>PTNOTRT</th>\n",
       "      <th>PTHOME</th>\n",
       "      <th>PTPLANG</th>\n",
       "      <th>PTETHCAT</th>\n",
       "      <th>PTRACCAT</th>\n",
       "      <th>age</th>\n",
       "      <th>...</th>\n",
       "      <th>RCT29</th>\n",
       "      <th>RCT3</th>\n",
       "      <th>RCT392</th>\n",
       "      <th>RCT4</th>\n",
       "      <th>RCT5</th>\n",
       "      <th>RCT6</th>\n",
       "      <th>RCT8</th>\n",
       "      <th>RCT9</th>\n",
       "      <th>apoe</th>\n",
       "      <th>DIAGNOSIS</th>\n",
       "    </tr>\n",
       "  </thead>\n",
       "  <tbody>\n",
       "    <tr>\n",
       "      <th>1</th>\n",
       "      <td>2</td>\n",
       "      <td>2</td>\n",
       "      <td>1</td>\n",
       "      <td>16</td>\n",
       "      <td>1</td>\n",
       "      <td>1</td>\n",
       "      <td>1</td>\n",
       "      <td>2</td>\n",
       "      <td>5</td>\n",
       "      <td>74.333333</td>\n",
       "      <td>...</td>\n",
       "      <td>0.2</td>\n",
       "      <td>19</td>\n",
       "      <td>1.1</td>\n",
       "      <td>21</td>\n",
       "      <td>19</td>\n",
       "      <td>15</td>\n",
       "      <td>5.6</td>\n",
       "      <td>3.0</td>\n",
       "      <td>2</td>\n",
       "      <td>Control</td>\n",
       "    </tr>\n",
       "    <tr>\n",
       "      <th>2</th>\n",
       "      <td>3</td>\n",
       "      <td>1</td>\n",
       "      <td>1</td>\n",
       "      <td>18</td>\n",
       "      <td>1</td>\n",
       "      <td>3</td>\n",
       "      <td>1</td>\n",
       "      <td>2</td>\n",
       "      <td>5</td>\n",
       "      <td>81.250000</td>\n",
       "      <td>...</td>\n",
       "      <td>0.1</td>\n",
       "      <td>21</td>\n",
       "      <td>1.3</td>\n",
       "      <td>16</td>\n",
       "      <td>19</td>\n",
       "      <td>19</td>\n",
       "      <td>6.9</td>\n",
       "      <td>3.5</td>\n",
       "      <td>3</td>\n",
       "      <td>AZ</td>\n",
       "    </tr>\n",
       "    <tr>\n",
       "      <th>3</th>\n",
       "      <td>4</td>\n",
       "      <td>1</td>\n",
       "      <td>1</td>\n",
       "      <td>10</td>\n",
       "      <td>0</td>\n",
       "      <td>1</td>\n",
       "      <td>2</td>\n",
       "      <td>1</td>\n",
       "      <td>5</td>\n",
       "      <td>67.583333</td>\n",
       "      <td>...</td>\n",
       "      <td>0.1</td>\n",
       "      <td>16</td>\n",
       "      <td>1.2</td>\n",
       "      <td>23</td>\n",
       "      <td>18</td>\n",
       "      <td>25</td>\n",
       "      <td>6.0</td>\n",
       "      <td>2.9</td>\n",
       "      <td>2</td>\n",
       "      <td>MCI</td>\n",
       "    </tr>\n",
       "    <tr>\n",
       "      <th>4</th>\n",
       "      <td>5</td>\n",
       "      <td>1</td>\n",
       "      <td>1</td>\n",
       "      <td>16</td>\n",
       "      <td>1</td>\n",
       "      <td>1</td>\n",
       "      <td>1</td>\n",
       "      <td>2</td>\n",
       "      <td>5</td>\n",
       "      <td>73.666667</td>\n",
       "      <td>...</td>\n",
       "      <td>0.2</td>\n",
       "      <td>16</td>\n",
       "      <td>1.0</td>\n",
       "      <td>17</td>\n",
       "      <td>24</td>\n",
       "      <td>14</td>\n",
       "      <td>5.7</td>\n",
       "      <td>3.2</td>\n",
       "      <td>2</td>\n",
       "      <td>Control</td>\n",
       "    </tr>\n",
       "    <tr>\n",
       "      <th>5</th>\n",
       "      <td>6</td>\n",
       "      <td>1</td>\n",
       "      <td>1</td>\n",
       "      <td>13</td>\n",
       "      <td>1</td>\n",
       "      <td>1</td>\n",
       "      <td>1</td>\n",
       "      <td>2</td>\n",
       "      <td>5</td>\n",
       "      <td>80.416667</td>\n",
       "      <td>...</td>\n",
       "      <td>0.2</td>\n",
       "      <td>19</td>\n",
       "      <td>1.1</td>\n",
       "      <td>16</td>\n",
       "      <td>19</td>\n",
       "      <td>23</td>\n",
       "      <td>5.3</td>\n",
       "      <td>4.5</td>\n",
       "      <td>2</td>\n",
       "      <td>MCI</td>\n",
       "    </tr>\n",
       "  </tbody>\n",
       "</table>\n",
       "<p>5 rows × 116 columns</p>\n",
       "</div>"
      ],
      "text/plain": [
       "   RID  PTHAND  PTMARRY  PTEDUCAT  PTNOTRT  PTHOME  PTPLANG  PTETHCAT  \\\n",
       "1    2       2        1        16        1       1        1         2   \n",
       "2    3       1        1        18        1       3        1         2   \n",
       "3    4       1        1        10        0       1        2         1   \n",
       "4    5       1        1        16        1       1        1         2   \n",
       "5    6       1        1        13        1       1        1         2   \n",
       "\n",
       "   PTRACCAT        age  ...  RCT29  RCT3  RCT392  RCT4  RCT5  RCT6  RCT8  \\\n",
       "1         5  74.333333  ...    0.2    19     1.1    21    19    15   5.6   \n",
       "2         5  81.250000  ...    0.1    21     1.3    16    19    19   6.9   \n",
       "3         5  67.583333  ...    0.1    16     1.2    23    18    25   6.0   \n",
       "4         5  73.666667  ...    0.2    16     1.0    17    24    14   5.7   \n",
       "5         5  80.416667  ...    0.2    19     1.1    16    19    23   5.3   \n",
       "\n",
       "   RCT9  apoe  DIAGNOSIS  \n",
       "1   3.0     2    Control  \n",
       "2   3.5     3         AZ  \n",
       "3   2.9     2        MCI  \n",
       "4   3.2     2    Control  \n",
       "5   4.5     2        MCI  \n",
       "\n",
       "[5 rows x 116 columns]"
      ]
     },
     "execution_count": 79,
     "metadata": {},
     "output_type": "execute_result"
    }
   ],
   "source": [
    "data = pd.read_csv(\"../../adni/objects/adni_df.csv\", index_col=0)\n",
    "data.head()"
   ]
  },
  {
   "cell_type": "code",
   "execution_count": 81,
   "id": "dd3bdb17-ede5-4230-b897-e408c66ebc34",
   "metadata": {},
   "outputs": [],
   "source": [
    "df = data.copy()"
   ]
  },
  {
   "cell_type": "code",
   "execution_count": 85,
   "id": "132ff8ee-4ae7-4f7b-882f-6b76386dacb8",
   "metadata": {},
   "outputs": [],
   "source": [
    "df = funcs.preproc_df(df)"
   ]
  },
  {
   "cell_type": "code",
   "execution_count": 87,
   "id": "13e35e3d-8ca1-43de-8d5d-f379f8518c79",
   "metadata": {},
   "outputs": [],
   "source": [
    "outcome = df['DIAGNOSIS']\n",
    "df.drop('DIAGNOSIS', axis = 1, inplace=True)"
   ]
  },
  {
   "cell_type": "code",
   "execution_count": 89,
   "id": "4285f5b5-9c3f-43ab-a3b9-924e3df331a8",
   "metadata": {},
   "outputs": [],
   "source": [
    "outcome_mapping = {\"Control\": 0,\n",
    "                  \"MCI\": 1,\n",
    "                  \"AZ\": 2}\n",
    "outcome = outcome.map(outcome_mapping)"
   ]
  },
  {
   "cell_type": "code",
   "execution_count": 91,
   "id": "08f0761a-b0c0-4ba7-9d78-6cd049ccfff1",
   "metadata": {},
   "outputs": [],
   "source": [
    "cat_features = [col for col in df.columns if (\n",
    "    col.startswith(\"NX\") or\n",
    "    col.startswith(\"PX\") or\n",
    "    col.startswith(\"PT\") or\n",
    "    col.startswith(\"MH\") or\n",
    "    (col.startswith(\"GD\") and col != \"GDTOTAL\") or\n",
    "    col in specific\n",
    ")]"
   ]
  },
  {
   "cell_type": "code",
   "execution_count": 93,
   "id": "6325c2ca-c1de-4639-9bcd-64a5bfe7cee3",
   "metadata": {},
   "outputs": [],
   "source": [
    "specific = [\"mother\", \"father\", \"HMSCORE\", \"BPCAT\", 'apoe']"
   ]
  },
  {
   "cell_type": "markdown",
   "id": "0fb7f5f2-abea-4ca6-a2f3-d68cb3550c69",
   "metadata": {},
   "source": [
    "## Baseline model with all features"
   ]
  },
  {
   "cell_type": "code",
   "execution_count": 95,
   "id": "631297d1-5c55-4502-8c57-81cf54532e99",
   "metadata": {},
   "outputs": [],
   "source": [
    "X, X_test, y, y_test = train_test_split(df, outcome, test_size=0.2, random_state=43)"
   ]
  },
  {
   "cell_type": "code",
   "execution_count": 97,
   "id": "7616e952-2272-4cfb-9444-e75245282a5d",
   "metadata": {},
   "outputs": [],
   "source": [
    "smote_over = SMOTE(random_state=44)\n",
    "X, y = smote_over.fit_resample(X, y)"
   ]
  },
  {
   "cell_type": "code",
   "execution_count": 64,
   "id": "a748aa11-532e-46f1-b97b-c72e4cb29ffa",
   "metadata": {},
   "outputs": [],
   "source": [
    "best_params = {'iterations': 1300, \n",
    "               'learning_rate': 0.1014738735791829, \n",
    "               'l2_leaf_reg': 1.113932097894264, \n",
    "               'bagging_temperature': 0.5824798842949885, \n",
    "               'random_strength': 1.117577499175244, \n",
    "               'depth': 6,\n",
    "               'random_seed': 42,\n",
    "               'loss_function': \"MultiClass\",\n",
    "               'min_data_in_leaf': 77, \n",
    "               'colsample_bylevel': 0.7599261618674156}"
   ]
  },
  {
   "cell_type": "code",
   "execution_count": 66,
   "id": "7fb5f5af-4c3c-4fa7-85e6-ae3d222d0348",
   "metadata": {},
   "outputs": [],
   "source": [
    "final_model = CatBoostClassifier(**best_params, verbose=False, cat_features=cat_features)"
   ]
  },
  {
   "cell_type": "code",
   "execution_count": 99,
   "id": "eb5497d0-558d-48ce-b5b1-209f2ac2778d",
   "metadata": {},
   "outputs": [
    {
     "data": {
      "text/plain": [
       "<catboost.core.CatBoostClassifier at 0x1fd64bb3050>"
      ]
     },
     "execution_count": 99,
     "metadata": {},
     "output_type": "execute_result"
    }
   ],
   "source": [
    "final_model.fit(X, y)"
   ]
  },
  {
   "cell_type": "code",
   "execution_count": 100,
   "id": "a409d0dc-c526-499f-973b-670cdd48c717",
   "metadata": {},
   "outputs": [],
   "source": [
    "predictions = final_model.predict(X_test)\n",
    "predictions_proba = final_model.predict_proba(X_test)"
   ]
  },
  {
   "cell_type": "code",
   "execution_count": 101,
   "id": "3ba1c37e-6ee2-4fa1-8030-c7af444a84ba",
   "metadata": {},
   "outputs": [
    {
     "data": {
      "text/html": [
       "<div>\n",
       "<style scoped>\n",
       "    .dataframe tbody tr th:only-of-type {\n",
       "        vertical-align: middle;\n",
       "    }\n",
       "\n",
       "    .dataframe tbody tr th {\n",
       "        vertical-align: top;\n",
       "    }\n",
       "\n",
       "    .dataframe thead th {\n",
       "        text-align: right;\n",
       "    }\n",
       "</style>\n",
       "<table border=\"1\" class=\"dataframe\">\n",
       "  <thead>\n",
       "    <tr style=\"text-align: right;\">\n",
       "      <th></th>\n",
       "      <th>Class</th>\n",
       "      <th>Recall</th>\n",
       "      <th>Precision</th>\n",
       "      <th>Specificity</th>\n",
       "      <th>NPV</th>\n",
       "      <th>AUC</th>\n",
       "    </tr>\n",
       "  </thead>\n",
       "  <tbody>\n",
       "    <tr>\n",
       "      <th>0</th>\n",
       "      <td>Control</td>\n",
       "      <td>0.930233</td>\n",
       "      <td>0.816327</td>\n",
       "      <td>0.931818</td>\n",
       "      <td>0.976190</td>\n",
       "      <td>0.978330</td>\n",
       "    </tr>\n",
       "    <tr>\n",
       "      <th>1</th>\n",
       "      <td>MCI</td>\n",
       "      <td>0.783505</td>\n",
       "      <td>0.826087</td>\n",
       "      <td>0.794872</td>\n",
       "      <td>0.746988</td>\n",
       "      <td>0.855670</td>\n",
       "    </tr>\n",
       "    <tr>\n",
       "      <th>2</th>\n",
       "      <td>AD</td>\n",
       "      <td>0.628571</td>\n",
       "      <td>0.647059</td>\n",
       "      <td>0.914286</td>\n",
       "      <td>0.907801</td>\n",
       "      <td>0.897347</td>\n",
       "    </tr>\n",
       "  </tbody>\n",
       "</table>\n",
       "</div>"
      ],
      "text/plain": [
       "     Class    Recall  Precision  Specificity       NPV       AUC\n",
       "0  Control  0.930233   0.816327     0.931818  0.976190  0.978330\n",
       "1      MCI  0.783505   0.826087     0.794872  0.746988  0.855670\n",
       "2       AD  0.628571   0.647059     0.914286  0.907801  0.897347"
      ]
     },
     "execution_count": 101,
     "metadata": {},
     "output_type": "execute_result"
    }
   ],
   "source": [
    "funcs.metrics_merged(y_test, predictions, predictions_proba)"
   ]
  },
  {
   "cell_type": "code",
   "execution_count": 105,
   "id": "8c7d4315-69d3-4683-bdad-9b4bdc64791d",
   "metadata": {},
   "outputs": [
    {
     "data": {
      "text/plain": [
       "array([[40,  3,  0],\n",
       "       [ 9, 76, 12],\n",
       "       [ 0, 13, 22]], dtype=int64)"
      ]
     },
     "execution_count": 105,
     "metadata": {},
     "output_type": "execute_result"
    }
   ],
   "source": [
    "confusion_matrix(y_test, predictions)"
   ]
  },
  {
   "cell_type": "code",
   "execution_count": 107,
   "id": "d3dd9e45-46e6-45d7-866f-fafbf90d4fb9",
   "metadata": {},
   "outputs": [
    {
     "data": {
      "image/png": "[encoded data removed]",
      "text/plain": [
       "<Figure size 1000x800 with 1 Axes>"
      ]
     },
     "metadata": {},
     "output_type": "display_data"
    }
   ],
   "source": [
    "n_classes = len(np.unique(y_test))\n",
    "class_labels = [\"Control\", \"MCI\", \"AD\"]\n",
    "colors = ['blue', 'red', 'green']  \n",
    "\n",
    "\n",
    "plt.figure(figsize=(10, 8))\n",
    "\n",
    "for i in range(n_classes):\n",
    "\n",
    "    fpr, tpr, _ = roc_curve(y_test == i, predictions_proba[:, i])  \n",
    "    roc_auc = auc(fpr, tpr)  \n",
    "\n",
    "    # Plot ROC curve\n",
    "    plt.plot(fpr, tpr, color=colors[i], label=f'{class_labels[i]} (AUC = {roc_auc:.2f})')\n",
    "\n",
    "\n",
    "plt.plot([0, 1], [0, 1], 'k--', label='Random Guessing') \n",
    "plt.xlim([-0.05, 1.0])\n",
    "plt.ylim([0.0, 1.05])\n",
    "plt.xlabel('False Positive Rate')\n",
    "plt.ylabel('True Positive Rate')\n",
    "plt.title('Receiver Operating Characteristic (ROC) Curves for Multi-class')\n",
    "plt.legend(loc='lower right')\n",
    "plt.grid()\n",
    "plt.show()"
   ]
  },
  {
   "cell_type": "code",
   "execution_count": 109,
   "id": "7a9ecf37-9000-4085-82c4-69253d318c6f",
   "metadata": {},
   "outputs": [
    {
     "data": {
      "image/png": "[encoded data removed]",
      "text/plain": [
       "<Figure size 1000x600 with 1 Axes>"
      ]
     },
     "metadata": {},
     "output_type": "display_data"
    }
   ],
   "source": [
    "importances = final_model.feature_importances_\n",
    "feature_names = X.columns  # If using a DataFrame, otherwise, use the appropriate feature list\n",
    "\n",
    "# Sort feature importances\n",
    "indices = np.argsort(importances)[::-1][:10]\n",
    "# Create a bar plot of feature importances\n",
    "plt.figure(figsize=(10, 6))\n",
    "plt.title(\"Feature Importances\")\n",
    "plt.bar(range(10), importances[indices], align=\"center\")\n",
    "plt.xticks(range(10), feature_names[indices], rotation=90)\n",
    "plt.xlim([-1, 10])\n",
    "plt.ylabel(\"Importance\")\n",
    "plt.xlabel(\"Feature\")\n",
    "plt.tight_layout()\n",
    "plt.show()"
   ]
  }
 ],
 "metadata": {
  "kernelspec": {
   "display_name": "Python 3 (ipykernel)",
   "language": "python",
   "name": "python3"
  },
  "language_info": {
   "codemirror_mode": {
    "name": "ipython",
    "version": 3
   },
   "file_extension": ".py",
   "mimetype": "text/x-python",
   "name": "python",
   "nbconvert_exporter": "python",
   "pygments_lexer": "ipython3",
   "version": "3.11.7"
  }
 },
 "nbformat": 4,
 "nbformat_minor": 5
}
